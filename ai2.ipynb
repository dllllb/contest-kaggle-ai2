{
 "cells": [
  {
   "cell_type": "markdown",
   "metadata": {},
   "source": [
    "https://www.kaggle.com/c/the-allen-ai-science-challenge\n",
    "\n",
    "- IR and word embedding sample: https://github.com/5vision/kaggle_allen\n",
    "- samples: https://github.com/kemaswill/Allen_AI_Science_Challenge_JunweiPan\n",
    "- Science Wikipedia articles: https://gist.github.com/sidharthshah/a3957238fcfcad53e46c\n",
    "- Wikipedia dump: https://en.wikipedia.org/wiki/Special:Export\n",
    "\n",
    "## Solutions:\n",
    "- 1-st place: https://github.com/Cardal/Kaggle_AllenAIscience\n",
    "- 2-nd place: https://github.com/bwilbertz/kaggle_allen_ai\n",
    "- 3-rd place: https://github.com/amsqr/Allen_AI_Kaggle"
   ]
  },
  {
   "cell_type": "code",
   "execution_count": 5,
   "metadata": {},
   "outputs": [
    {
     "ename": "ImportError",
     "evalue": "No module named dstools.ml.ensemble",
     "output_type": "error",
     "traceback": [
      "\u001b[0;31m---------------------------------------------------------------------------\u001b[0m",
      "\u001b[0;31mImportError\u001b[0m                               Traceback (most recent call last)",
      "\u001b[0;32m/Users/dmitri/gdrive/projects/kaggle-ai2/ai2.py\u001b[0m in \u001b[0;36m<module>\u001b[0;34m()\u001b[0m\n\u001b[1;32m     27\u001b[0m \u001b[0;32mfrom\u001b[0m \u001b[0msklearn\u001b[0m\u001b[0;34m.\u001b[0m\u001b[0mpipeline\u001b[0m \u001b[0;32mimport\u001b[0m \u001b[0mPipeline\u001b[0m\u001b[0;34m\u001b[0m\u001b[0m\n\u001b[1;32m     28\u001b[0m \u001b[0;34m\u001b[0m\u001b[0m\n\u001b[0;32m---> 29\u001b[0;31m \u001b[0;32mfrom\u001b[0m \u001b[0mdstools\u001b[0m\u001b[0;34m.\u001b[0m\u001b[0mml\u001b[0m\u001b[0;34m.\u001b[0m\u001b[0mensemble\u001b[0m \u001b[0;32mimport\u001b[0m \u001b[0mModelEnsemble\u001b[0m\u001b[0;34m\u001b[0m\u001b[0m\n\u001b[0m\u001b[1;32m     30\u001b[0m \u001b[0;32mfrom\u001b[0m \u001b[0mdstools\u001b[0m\u001b[0;34m.\u001b[0m\u001b[0mutil\u001b[0m\u001b[0;34m.\u001b[0m\u001b[0mtimer\u001b[0m \u001b[0;32mimport\u001b[0m \u001b[0mTimer\u001b[0m\u001b[0;34m\u001b[0m\u001b[0m\n\u001b[1;32m     31\u001b[0m \u001b[0;34m\u001b[0m\u001b[0m\n",
      "\u001b[0;31mImportError\u001b[0m: No module named dstools.ml.ensemble"
     ]
    }
   ],
   "source": [
    "%run ai2.py"
   ]
  },
  {
   "cell_type": "code",
   "execution_count": 4,
   "metadata": {},
   "outputs": [
    {
     "ename": "NameError",
     "evalue": "name 'IrEstimator' is not defined",
     "output_type": "error",
     "traceback": [
      "\u001b[0;31m---------------------------------------------------------------------------\u001b[0m",
      "\u001b[0;31mNameError\u001b[0m                                 Traceback (most recent call last)",
      "\u001b[0;32m<ipython-input-4-c47c8a888cd0>\u001b[0m in \u001b[0;36m<module>\u001b[0;34m()\u001b[0m\n\u001b[1;32m      1\u001b[0m \u001b[0;31m# mean: 0.383613928769, std: 0.0224772900287\u001b[0m\u001b[0;34m\u001b[0m\u001b[0;34m\u001b[0m\u001b[0m\n\u001b[1;32m      2\u001b[0m \u001b[0;31m# cv execution time: 34.7804338932 sec\u001b[0m\u001b[0;34m\u001b[0m\u001b[0;34m\u001b[0m\u001b[0m\n\u001b[0;32m----> 3\u001b[0;31m \u001b[0mest1\u001b[0m \u001b[0;34m=\u001b[0m \u001b[0mIrEstimator\u001b[0m\u001b[0;34m(\u001b[0m\u001b[0;34m'ck12-concepts'\u001b[0m\u001b[0;34m)\u001b[0m  \u001b[0;31m# Concepts_b_v8_vdt_html.zip, stopwords\u001b[0m\u001b[0;34m\u001b[0m\u001b[0m\n\u001b[0m",
      "\u001b[0;31mNameError\u001b[0m: name 'IrEstimator' is not defined"
     ]
    }
   ],
   "source": [
    "# mean: 0.383613928769, std: 0.0224772900287\n",
    "# cv execution time: 34.7804338932 sec\n",
    "est1 = IrEstimator('ck12-concepts')  # Concepts_b_v8_vdt_html.zip, stopwords"
   ]
  },
  {
   "cell_type": "code",
   "execution_count": 6,
   "metadata": {},
   "outputs": [
    {
     "ename": "NameError",
     "evalue": "name 'ModelEnsemble' is not defined",
     "output_type": "error",
     "traceback": [
      "\u001b[0;31m---------------------------------------------------------------------------\u001b[0m",
      "\u001b[0;31mNameError\u001b[0m                                 Traceback (most recent call last)",
      "\u001b[0;32m<ipython-input-6-94c7e55b3396>\u001b[0m in \u001b[0;36m<module>\u001b[0;34m()\u001b[0m\n\u001b[1;32m      1\u001b[0m \u001b[0;31m# mean: 0.387199480557, std: 0.00767928030034\u001b[0m\u001b[0;34m\u001b[0m\u001b[0;34m\u001b[0m\u001b[0m\n\u001b[1;32m      2\u001b[0m \u001b[0;31m# cv execution time: 305.623694897 sec\u001b[0m\u001b[0;34m\u001b[0m\u001b[0;34m\u001b[0m\u001b[0m\n\u001b[0;32m----> 3\u001b[0;31m est6 = ModelEnsemble(\n\u001b[0m\u001b[1;32m      4\u001b[0m     intermediate_estimators=[\n\u001b[1;32m      5\u001b[0m         \u001b[0mGloveEstimator\u001b[0m\u001b[0;34m(\u001b[0m\u001b[0;34m'glove.6B.300d-ai2.txt.bz2'\u001b[0m\u001b[0;34m)\u001b[0m\u001b[0;34m,\u001b[0m\u001b[0;34m\u001b[0m\u001b[0m\n",
      "\u001b[0;31mNameError\u001b[0m: name 'ModelEnsemble' is not defined"
     ]
    }
   ],
   "source": [
    "# mean: 0.387199480557, std: 0.00767928030034\n",
    "# cv execution time: 305.623694897 sec\n",
    "est6 = ModelEnsemble(\n",
    "    intermediate_estimators=[\n",
    "        GloveEstimator('glove.6B.300d-ai2.txt.bz2'),\n",
    "        IrEstimatorRescoreSum('ck12-concepts'),\n",
    "    ],\n",
    "    assembly_estimator=LogisticRegression(C=1),\n",
    "    ensemble_train_size=1\n",
    ")"
   ]
  },
  {
   "cell_type": "code",
   "execution_count": null,
   "metadata": {
    "collapsed": true
   },
   "outputs": [],
   "source": []
  }
 ],
 "metadata": {
  "kernelspec": {
   "display_name": "Python 2",
   "language": "python",
   "name": "python2"
  },
  "language_info": {
   "codemirror_mode": {
    "name": "ipython",
    "version": 2
   },
   "file_extension": ".py",
   "mimetype": "text/x-python",
   "name": "python",
   "nbconvert_exporter": "python",
   "pygments_lexer": "ipython2",
   "version": "2.7.11"
  }
 },
 "nbformat": 4,
 "nbformat_minor": 1
}
