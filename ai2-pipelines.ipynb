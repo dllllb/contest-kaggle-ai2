{
 "cells": [
  {
   "cell_type": "markdown",
   "metadata": {},
   "source": [
    "# Links\n",
    "- Kaggle competition: https://www.kaggle.com/c/the-allen-ai-science-challenge\n",
    "- IR and word embedding sample: https://github.com/5vision/kaggle_allen\n",
    "- samples: https://github.com/kemaswill/Allen_AI_Science_Challenge_JunweiPan\n",
    "- Science Wikipedia articles: https://gist.github.com/sidharthshah/a3957238fcfcad53e46c\n",
    "- Wikipedia dump: https://en.wikipedia.org/wiki/Special:Export\n",
    "\n",
    "# Solutions:\n",
    "- 1-st place: https://github.com/Cardal/Kaggle_AllenAIscience\n",
    "- 2-nd place: https://github.com/bwilbertz/kaggle_allen_ai\n",
    "- 3-rd place: https://github.com/amsqr/Allen_AI_Kaggle\n",
    "\n",
    "# Setup:\n",
    "use index_ck_12_conecpts_v8 to create ElasticSearch index"
   ]
  },
  {
   "cell_type": "code",
   "execution_count": 10,
   "metadata": {},
   "outputs": [],
   "source": [
    "%run ai2.py"
   ]
  },
  {
   "cell_type": "code",
   "execution_count": 11,
   "metadata": {
    "collapsed": true
   },
   "outputs": [],
   "source": [
    "%run ds_tools/dstools/ml/ensemble.py"
   ]
  },
  {
   "cell_type": "code",
   "execution_count": 12,
   "metadata": {},
   "outputs": [],
   "source": [
    "# mean: 0.383613928769, std: 0.0224772900287\n",
    "# cv execution time: 34.7804338932 sec\n",
    "est1 = IrEstimator('ck12-concepts')  # Concepts_b_v8_vdt_html.zip, stopwords"
   ]
  },
  {
   "cell_type": "code",
   "execution_count": 14,
   "metadata": {
    "collapsed": true
   },
   "outputs": [],
   "source": [
    "# mean: 0.392806695044, std: 0.00974997673719\n",
    "# cv execution time: 49.3968729973 sec\n",
    "est1_1 = IrEstimatorRescoreSum('ck12-concepts')  # Concepts_b_v8_vdt_html.zip, stopwords"
   ]
  },
  {
   "cell_type": "code",
   "execution_count": 15,
   "metadata": {
    "collapsed": true
   },
   "outputs": [],
   "source": [
    "# mean: 0.367610590866, std: 0.00736769904979\n",
    "# cv execution time: 49.5336530209 sec\n",
    "est1_2 = IrEstimatorSum('ck12-concepts')  # Concepts_b_v8_vdt_html.zip, stopwords"
   ]
  },
  {
   "cell_type": "code",
   "execution_count": 16,
   "metadata": {
    "collapsed": true
   },
   "outputs": [],
   "source": [
    "# mean: 0.305605320779, std: 0.00359779255663\n",
    "# cv execution time: 22.8514099121 sec\n",
    "est3 = GloveEstimator('glove.6B.300d-ai2.txt.bz2')"
   ]
  },
  {
   "cell_type": "code",
   "execution_count": 17,
   "metadata": {
    "collapsed": true
   },
   "outputs": [],
   "source": [
    "# mean: 0.378805972527, std: 0.00684518647143\n",
    "# cv execution time: 134.214504004 sec\n",
    "est4 = ModelEnsemble(\n",
    "    intermediate_estimators=[\n",
    "        GloveEstimator('glove.6B.300d-ai2.txt.bz2'),\n",
    "        IrEstimator('ck12-concepts'),\n",
    "    ],\n",
    "    assembly_estimator=LogisticRegression(C=1),\n",
    "    ensemble_train_size=1\n",
    ")"
   ]
  },
  {
   "cell_type": "code",
   "execution_count": 18,
   "metadata": {
    "collapsed": true
   },
   "outputs": [],
   "source": [
    "# mean: 0.378411475843, std: 0.0157684051548\n",
    "# cv execution time: 219.582041979 sec\n",
    "est5 = ModelEnsemble(\n",
    "    intermediate_estimators=[\n",
    "        GloveEstimator('glove.6B.300d-ai2.txt.bz2'),\n",
    "        IrEstimator('ck12-concepts'),\n",
    "    ],\n",
    "    assembly_estimator=Pipeline([\n",
    "        ('pca', PCA(n_components=4)),\n",
    "        ('lr', LogisticRegression(C=1)),\n",
    "    ]),\n",
    "    ensemble_train_size=1\n",
    ")"
   ]
  },
  {
   "cell_type": "code",
   "execution_count": 13,
   "metadata": {},
   "outputs": [],
   "source": [
    "# mean: 0.387199480557, std: 0.00767928030034\n",
    "# cv execution time: 305.623694897 sec\n",
    "est6 = ModelEnsemble(\n",
    "    intermediate_estimators=[\n",
    "        GloveEstimator('glove.6B.300d-ai2.txt.bz2'),\n",
    "        IrEstimatorRescoreSum('ck12-concepts'),\n",
    "    ],\n",
    "    assembly_estimator=LogisticRegression(C=1),\n",
    "    ensemble_train_size=1\n",
    ")"
   ]
  }
 ],
 "metadata": {
  "kernelspec": {
   "display_name": "Python 2",
   "language": "python",
   "name": "python2"
  },
  "language_info": {
   "codemirror_mode": {
    "name": "ipython",
    "version": 2
   },
   "file_extension": ".py",
   "mimetype": "text/x-python",
   "name": "python",
   "nbconvert_exporter": "python",
   "pygments_lexer": "ipython2",
   "version": "2.7.11"
  }
 },
 "nbformat": 4,
 "nbformat_minor": 1
}
