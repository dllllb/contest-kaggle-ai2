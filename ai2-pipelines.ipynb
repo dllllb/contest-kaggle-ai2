{
 "cells": [
  {
   "cell_type": "code",
   "execution_count": 1,
   "metadata": {
    "collapsed": true
   },
   "outputs": [],
   "source": [
    "from sklearn.pipeline import Pipeline\n",
    "from sklearn.decomposition.pca import PCA\n",
    "from sklearn.linear_model import LogisticRegression\n",
    "import pandas as pd"
   ]
  },
  {
   "cell_type": "code",
   "execution_count": 4,
   "metadata": {
    "collapsed": true
   },
   "outputs": [],
   "source": [
    "%run common.ipynb"
   ]
  },
  {
   "cell_type": "code",
   "execution_count": 11,
   "metadata": {
    "collapsed": true
   },
   "outputs": [],
   "source": [
    "%run ds_tools/dstools/ml/ensemble.py"
   ]
  },
  {
   "cell_type": "code",
   "execution_count": 2,
   "metadata": {
    "collapsed": true
   },
   "outputs": [],
   "source": [
    "def cv_test(est):\n",
    "    df = pd.read_csv('training_set.tsv', index_col='id', sep='\\t')\n",
    "\n",
    "    scores = cross_val_score(\n",
    "        estimator=est,\n",
    "        X=df.drop('correctAnswer', axis=1),\n",
    "        y=df.correctAnswer,\n",
    "        cv=5,\n",
    "        n_jobs=1,\n",
    "        verbose=1)\n",
    "    print(est)\n",
    "    print(scores)\n",
    "    print('mean: {mean}, std: {std}'.format(mean=scores.mean(), std=scores.std()))"
   ]
  },
  {
   "cell_type": "code",
   "execution_count": 3,
   "metadata": {
    "collapsed": true
   },
   "outputs": [],
   "source": [
    "def submission(est, name='results'):\n",
    "    df_train = pd.read_csv('training_set.tsv', index_col='id', sep='\\t')\n",
    "    model = est.fit(df_train.drop('correctAnswer', axis=1), df_train.correctAnswer)\n",
    "\n",
    "    df = pd.read_csv('test_set.tsv.gz', index_col='id', sep='\\t')\n",
    "    preds = model.predict(df)\n",
    "    res = pd.Series(preds, index=df.index, name='correctAnswer')\n",
    "    res.to_csv(name+'.csv', index_label='id', header=True)"
   ]
  },
  {
   "cell_type": "code",
   "execution_count": 12,
   "metadata": {
    "collapsed": true
   },
   "outputs": [],
   "source": [
    "# mean: 0.383613928769, std: 0.0224772900287\n",
    "# cv execution time: 34.7804338932 sec\n",
    "est1 = IrEstimator('ck12-concepts')  # Concepts_b_v8_vdt_html.zip, stopwords"
   ]
  },
  {
   "cell_type": "code",
   "execution_count": 14,
   "metadata": {
    "collapsed": true
   },
   "outputs": [],
   "source": [
    "# mean: 0.392806695044, std: 0.00974997673719\n",
    "# cv execution time: 49.3968729973 sec\n",
    "est1_1 = IrEstimatorRescoreSum('ck12-concepts')  # Concepts_b_v8_vdt_html.zip, stopwords"
   ]
  },
  {
   "cell_type": "code",
   "execution_count": 15,
   "metadata": {
    "collapsed": true
   },
   "outputs": [],
   "source": [
    "# mean: 0.367610590866, std: 0.00736769904979\n",
    "# cv execution time: 49.5336530209 sec\n",
    "est1_2 = IrEstimatorSum('ck12-concepts')  # Concepts_b_v8_vdt_html.zip, stopwords"
   ]
  },
  {
   "cell_type": "code",
   "execution_count": 16,
   "metadata": {
    "collapsed": true
   },
   "outputs": [],
   "source": [
    "# mean: 0.305605320779, std: 0.00359779255663\n",
    "# cv execution time: 22.8514099121 sec\n",
    "est3 = GloveEstimator('glove.6B.300d-ai2.txt.bz2')"
   ]
  },
  {
   "cell_type": "code",
   "execution_count": 17,
   "metadata": {
    "collapsed": true
   },
   "outputs": [],
   "source": [
    "# mean: 0.378805972527, std: 0.00684518647143\n",
    "# cv execution time: 134.214504004 sec\n",
    "est4 = ModelEnsemble(\n",
    "    intermediate_estimators=[\n",
    "        GloveEstimator('glove.6B.300d-ai2.txt.bz2'),\n",
    "        IrEstimator('ck12-concepts'),\n",
    "    ],\n",
    "    assembly_estimator=LogisticRegression(C=1),\n",
    "    ensemble_train_size=1\n",
    ")"
   ]
  },
  {
   "cell_type": "code",
   "execution_count": 18,
   "metadata": {
    "collapsed": true
   },
   "outputs": [],
   "source": [
    "# mean: 0.378411475843, std: 0.0157684051548\n",
    "# cv execution time: 219.582041979 sec\n",
    "est5 = ModelEnsemble(\n",
    "    intermediate_estimators=[\n",
    "        GloveEstimator('glove.6B.300d-ai2.txt.bz2'),\n",
    "        IrEstimator('ck12-concepts'),\n",
    "    ],\n",
    "    assembly_estimator=Pipeline([\n",
    "        ('pca', PCA(n_components=4)),\n",
    "        ('lr', LogisticRegression(C=1)),\n",
    "    ]),\n",
    "    ensemble_train_size=1\n",
    ")"
   ]
  },
  {
   "cell_type": "code",
   "execution_count": 13,
   "metadata": {
    "collapsed": true
   },
   "outputs": [],
   "source": [
    "# mean: 0.387199480557, std: 0.00767928030034\n",
    "# cv execution time: 305.623694897 sec\n",
    "est6 = ModelEnsemble(\n",
    "    intermediate_estimators=[\n",
    "        GloveEstimator('glove.6B.300d-ai2.txt.bz2'),\n",
    "        IrEstimatorRescoreSum('ck12-concepts'),\n",
    "    ],\n",
    "    assembly_estimator=LogisticRegression(C=1),\n",
    "    ensemble_train_size=1\n",
    ")"
   ]
  }
 ],
 "metadata": {
  "kernelspec": {
   "display_name": "Python 3",
   "language": "python",
   "name": "python3"
  },
  "language_info": {
   "codemirror_mode": {
    "name": "ipython",
    "version": 3
   },
   "file_extension": ".py",
   "mimetype": "text/x-python",
   "name": "python",
   "nbconvert_exporter": "python",
   "pygments_lexer": "ipython3",
   "version": "3.6.4"
  }
 },
 "nbformat": 4,
 "nbformat_minor": 2
}
