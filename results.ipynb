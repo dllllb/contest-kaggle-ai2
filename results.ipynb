{
  "cells": [
    {
      "cell_type": "code",
      "source": [
        "import pandas as pd\n",
        "stats = pd.read_json('results.json').sort_values('acc-mean')\n",
        "stats.T[stats.nunique() > 1]"
      ],
      "outputs": [
        {
          "output_type": "execute_result",
          "execution_count": 21,
          "data": {
            "text/html": [
              "<div>\n",
              "<style scoped>\n",
              "    .dataframe tbody tr th:only-of-type {\n",
              "        vertical-align: middle;\n",
              "    }\n",
              "\n",
              "    .dataframe tbody tr th {\n",
              "        vertical-align: top;\n",
              "    }\n",
              "\n",
              "    .dataframe thead th {\n",
              "        text-align: right;\n",
              "    }\n",
              "</style>\n",
              "<table border=\"1\" class=\"dataframe\">\n",
              "  <thead>\n",
              "    <tr style=\"text-align: right;\">\n",
              "      <th></th>\n",
              "      <th>3</th>\n",
              "      <th>2</th>\n",
              "      <th>5</th>\n",
              "      <th>4</th>\n",
              "      <th>0</th>\n",
              "      <th>6</th>\n",
              "      <th>1</th>\n",
              "    </tr>\n",
              "  </thead>\n",
              "  <tbody>\n",
              "    <tr>\n",
              "      <th>acc-mean</th>\n",
              "      <td>0.305605</td>\n",
              "      <td>0.367611</td>\n",
              "      <td>0.378411</td>\n",
              "      <td>0.378806</td>\n",
              "      <td>0.383614</td>\n",
              "      <td>0.387199</td>\n",
              "      <td>0.392807</td>\n",
              "    </tr>\n",
              "    <tr>\n",
              "      <th>acc-std</th>\n",
              "      <td>0.00359779</td>\n",
              "      <td>0.0073677</td>\n",
              "      <td>0.0157684</td>\n",
              "      <td>0.00684519</td>\n",
              "      <td>0.0224773</td>\n",
              "      <td>0.00767928</td>\n",
              "      <td>0.00974998</td>\n",
              "    </tr>\n",
              "    <tr>\n",
              "      <th>est_type</th>\n",
              "      <td>glove</td>\n",
              "      <td>irs</td>\n",
              "      <td>gl+ir/pca+lr</td>\n",
              "      <td>gl+ir/lr</td>\n",
              "      <td>ir</td>\n",
              "      <td>gl+irrs/lr</td>\n",
              "      <td>irrs</td>\n",
              "    </tr>\n",
              "    <tr>\n",
              "      <th>exec-time-sec</th>\n",
              "      <td>22.8514</td>\n",
              "      <td>49.5337</td>\n",
              "      <td>219.582</td>\n",
              "      <td>134.215</td>\n",
              "      <td>34.7804</td>\n",
              "      <td>305.624</td>\n",
              "      <td>49.3969</td>\n",
              "    </tr>\n",
              "  </tbody>\n",
              "</table>\n",
              "</div>"
            ],
            "text/plain": [
              "                        3          2             5           4          0  \\\n",
              "acc-mean         0.305605   0.367611      0.378411    0.378806   0.383614   \n",
              "acc-std        0.00359779  0.0073677     0.0157684  0.00684519  0.0224773   \n",
              "est_type            glove        irs  gl+ir/pca+lr    gl+ir/lr         ir   \n",
              "exec-time-sec     22.8514    49.5337       219.582     134.215    34.7804   \n",
              "\n",
              "                        6           1  \n",
              "acc-mean         0.387199    0.392807  \n",
              "acc-std        0.00767928  0.00974998  \n",
              "est_type       gl+irrs/lr        irrs  \n",
              "exec-time-sec     305.624     49.3969  "
            ]
          },
          "metadata": {}
        }
      ],
      "execution_count": 21,
      "metadata": {}
    },
    {
      "cell_type": "code",
      "source": [],
      "outputs": [],
      "execution_count": null,
      "metadata": {}
    }
  ],
  "metadata": {
    "kernelspec": {
      "name": "python3",
      "language": "python",
      "display_name": "Python 3"
    },
    "language_info": {
      "name": "python",
      "version": "3.6.7",
      "mimetype": "text/x-python",
      "codemirror_mode": {
        "name": "ipython",
        "version": 3
      },
      "pygments_lexer": "ipython3",
      "nbconvert_exporter": "python",
      "file_extension": ".py"
    },
    "kernel_info": {
      "name": "python3"
    },
    "nteract": {
      "version": "0.14.5"
    }
  },
  "nbformat": 4,
  "nbformat_minor": 2
}